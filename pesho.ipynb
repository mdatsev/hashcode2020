{
 "cells": [
  {
   "cell_type": "code",
   "execution_count": 389,
   "metadata": {},
   "outputs": [],
   "source": [
    "# LETTER = 'A'\n",
    "# LETTER = 'B'\n",
    "# LETTER = 'C'\n",
    "# LETTER = 'D'\n",
    "# LETTER = 'E'\n",
    "LETTER = 'F'"
   ]
  },
  {
   "cell_type": "code",
   "execution_count": 390,
   "metadata": {},
   "outputs": [],
   "source": [
    "import sys"
   ]
  },
  {
   "cell_type": "code",
   "execution_count": 391,
   "metadata": {},
   "outputs": [],
   "source": [
    "f = open(\"inputs/\" + LETTER + \".txt\",\"r\")\n",
    "\n",
    "inpt = f.read().split()\n",
    "ic=0\n",
    "def readi():\n",
    "    global ic\n",
    "    v = inpt[ic]\n",
    "    ic += 1\n",
    "    return int(v)"
   ]
  },
  {
   "cell_type": "code",
   "execution_count": 392,
   "metadata": {},
   "outputs": [],
   "source": [
    "nbooks = readi()\n",
    "nlibs = readi()\n",
    "ndays = readi()\n",
    "\n",
    "scores = []\n",
    "for _ in range(nbooks):\n",
    "    scores.append(readi())\n",
    "    \n",
    "libs = []\n",
    "for i in range(nlibs):\n",
    "    libs.append({\n",
    "        'nbooks': readi(),\n",
    "        'stime': readi(),\n",
    "        'bperday': readi(),\n",
    "        'idx': i\n",
    "    })\n",
    "    libs[-1]['books'] = []\n",
    "    for _ in range(libs[-1]['nbooks']):\n",
    "        libs[-1]['books'].append(readi())"
   ]
  },
  {
   "cell_type": "code",
   "execution_count": 393,
   "metadata": {},
   "outputs": [],
   "source": [
    "for i, lib in enumerate(libs):\n",
    "    lib['books'] = sorted(lib['books'], key=lambda indx: scores[indx], reverse=True)\n",
    "    "
   ]
  },
  {
   "cell_type": "code",
   "execution_count": 394,
   "metadata": {},
   "outputs": [],
   "source": [
    "# TODO: sort libs"
   ]
  },
  {
   "cell_type": "code",
   "execution_count": 395,
   "metadata": {},
   "outputs": [],
   "source": [
    "# remove duplicates\n",
    "scanned_books = []\n",
    "for i in range(nbooks):\n",
    "    scanned_books.append(False)\n",
    "\n",
    "signup_days = 0\n",
    "m = len(libs)\n",
    "for i in range(m):\n",
    "    if i >= len(libs):\n",
    "        break\n",
    "    lib = libs[i]\n",
    "    \n",
    "    signup_days += lib['stime']\n",
    "    days_left = ndays - signup_days\n",
    "    n_scanned = days_left * lib['bperday']\n",
    "    \n",
    "    n = len(lib['books'])\n",
    "    not_scanned = lib['nbooks'] - n_scanned\n",
    "    if not_scanned < 0:\n",
    "        not_scanned = 0\n",
    "    \n",
    "    for j in range(n):\n",
    "        if j == n - not_scanned or j >= len(lib['books']):\n",
    "            break\n",
    "        \n",
    "        indx = lib['books'][j]\n",
    "        \n",
    "        if scanned_books[indx]:\n",
    "            del lib['books'][j]\n",
    "            j -= 1\n",
    "            not_scanned -= 1\n",
    "        else:\n",
    "            scanned_books[indx] = True\n",
    "    \n",
    "    if len(lib['books']) == 0:\n",
    "        del libs[i]\n",
    "        i -= 1\n",
    "            \n",
    "        \n",
    "    "
   ]
  },
  {
   "cell_type": "code",
   "execution_count": 396,
   "metadata": {},
   "outputs": [],
   "source": [
    "res = open(\"outputs/\" + LETTER + \"-out.txt\", \"w\")\n",
    "\n",
    "def wri(i):\n",
    "    res.write(str(i))\n",
    "    res.write(' ')\n",
    "    \n",
    "def nl():\n",
    "    res.write('\\n')\n",
    "    \n",
    "wri(len([l for l in libs if len(l['books'])]))\n",
    "nl()\n",
    "\n",
    "for lib in libs:\n",
    "    if len(lib['books']) == 0:\n",
    "        continue\n",
    "    wri(lib['idx'])\n",
    "    wri(len(lib['books']))\n",
    "    nl()\n",
    "    \n",
    "    for book in lib['books']:\n",
    "        wri(book)\n",
    "    nl()\n",
    "    \n",
    "f.close()\n",
    "res.close()"
   ]
  },
  {
   "cell_type": "code",
   "execution_count": null,
   "metadata": {},
   "outputs": [],
   "source": []
  },
  {
   "cell_type": "code",
   "execution_count": null,
   "metadata": {},
   "outputs": [],
   "source": []
  }
 ],
 "metadata": {
  "kernelspec": {
   "display_name": "Python 3",
   "language": "python",
   "name": "python3"
  },
  "language_info": {
   "codemirror_mode": {
    "name": "ipython",
    "version": 3
   },
   "file_extension": ".py",
   "mimetype": "text/x-python",
   "name": "python",
   "nbconvert_exporter": "python",
   "pygments_lexer": "ipython3",
   "version": "3.7.3"
  }
 },
 "nbformat": 4,
 "nbformat_minor": 2
}
