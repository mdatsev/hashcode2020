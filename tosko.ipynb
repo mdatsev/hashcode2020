{
 "cells": [
  {
   "cell_type": "code",
   "execution_count": 176,
   "metadata": {},
   "outputs": [],
   "source": [
    "LETTER = 'B'"
   ]
  },
  {
   "cell_type": "code",
   "execution_count": 177,
   "metadata": {},
   "outputs": [],
   "source": [
    "import sys"
   ]
  },
  {
   "cell_type": "code",
   "execution_count": 178,
   "metadata": {},
   "outputs": [],
   "source": [
    "f = open(\"inputs/\" + LETTER + \".txt\",\"r\")\n",
    "\n",
    "inpt = f.read().split()\n",
    "ic=0\n",
    "def readi():\n",
    "    global ic\n",
    "    v = inpt[ic]\n",
    "    ic += 1\n",
    "    return int(v)"
   ]
  },
  {
   "cell_type": "code",
   "execution_count": 179,
   "metadata": {},
   "outputs": [],
   "source": [
    "nbooks = readi()\n",
    "nlibs = readi()\n",
    "ndays = readi()\n",
    "\n",
    "scores = []\n",
    "for _ in range(nbooks):\n",
    "    scores.append(readi())\n",
    "    \n",
    "libs = []\n",
    "for i in range(nlibs):\n",
    "    libs.append({\n",
    "        'nbooks': readi(),\n",
    "        'stime': readi(),\n",
    "        'bperday': readi(),\n",
    "        'ind': i\n",
    "    })\n",
    "    libs[-1]['books'] = []\n",
    "    for _ in range(libs[-1]['nbooks']):\n",
    "        libs[-1]['books'].append(readi())"
   ]
  },
  {
   "cell_type": "code",
   "execution_count": 180,
   "metadata": {},
   "outputs": [],
   "source": [
    " def formula(lib):\n",
    "    return lib['bperday']/lib['nbooks'] + lib['stime']"
   ]
  },
  {
   "cell_type": "code",
   "execution_count": 181,
   "metadata": {},
   "outputs": [],
   "source": [
    "libs = sorted(libs, key=formula)"
   ]
  },
  {
   "cell_type": "code",
   "execution_count": 182,
   "metadata": {},
   "outputs": [],
   "source": [
    "res = open(\"outputs/\" + LETTER + \"-out.txt\", \"w\")\n",
    "\n",
    "def wri(i):\n",
    "    res.write(str(i))\n",
    "    res.write(' ')\n",
    "    \n",
    "def nl():\n",
    "    res.write('\\n')\n",
    "    \n",
    "wri(nlibs)\n",
    "nl()\n",
    "\n",
    "for lib in libs:\n",
    "    wri(lib['ind'])\n",
    "    wri(lib['nbooks'])\n",
    "    nl()\n",
    "    \n",
    "    for book in lib['books']:\n",
    "        wri(book)\n",
    "    nl()\n",
    "    \n",
    "f.close()\n",
    "res.close()"
   ]
  },
  {
   "cell_type": "code",
   "execution_count": null,
   "metadata": {},
   "outputs": [],
   "source": []
  },
  {
   "cell_type": "code",
   "execution_count": null,
   "metadata": {},
   "outputs": [],
   "source": []
  },
  {
   "cell_type": "code",
   "execution_count": null,
   "metadata": {},
   "outputs": [],
   "source": []
  },
  {
   "cell_type": "code",
   "execution_count": null,
   "metadata": {},
   "outputs": [],
   "source": []
  },
  {
   "cell_type": "code",
   "execution_count": null,
   "metadata": {},
   "outputs": [],
   "source": []
  },
  {
   "cell_type": "code",
   "execution_count": null,
   "metadata": {},
   "outputs": [],
   "source": []
  }
 ],
 "metadata": {
  "kernelspec": {
   "display_name": "Python 2",
   "language": "python",
   "name": "python2"
  },
  "language_info": {
   "codemirror_mode": {
    "name": "ipython",
    "version": 2
   },
   "file_extension": ".py",
   "mimetype": "text/x-python",
   "name": "python",
   "nbconvert_exporter": "python",
   "pygments_lexer": "ipython2",
   "version": "2.7.12"
  }
 },
 "nbformat": 4,
 "nbformat_minor": 2
}
