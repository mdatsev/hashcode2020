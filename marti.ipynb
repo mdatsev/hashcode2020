{
 "cells": [
  {
   "cell_type": "code",
   "execution_count": 248,
   "metadata": {},
   "outputs": [],
   "source": [
    "# LETTER = 'A'\n",
    "# LETTER = 'B'\n",
    "LETTER = 'C'\n",
    "# LETTER = 'D'\n",
    "# LETTER = 'E'\n",
    "# LETTER = 'F'"
   ]
  },
  {
   "cell_type": "code",
   "execution_count": 249,
   "metadata": {},
   "outputs": [],
   "source": [
    "import sys"
   ]
  },
  {
   "cell_type": "code",
   "execution_count": 250,
   "metadata": {},
   "outputs": [],
   "source": [
    "f = open(\"inputs/\" + LETTER + \".txt\",\"r\")\n",
    "\n",
    "inpt = f.read().split()\n",
    "ic=0\n",
    "def readi():\n",
    "    global ic\n",
    "    v = inpt[ic]\n",
    "    ic += 1\n",
    "    return int(v)"
   ]
  },
  {
   "cell_type": "code",
   "execution_count": 251,
   "metadata": {},
   "outputs": [],
   "source": [
    "nbooks = readi()\n",
    "nlibs = readi()\n",
    "ndays = readi()\n",
    "\n",
    "scores = []\n",
    "for _ in range(nbooks):\n",
    "    scores.append(readi())\n",
    "    \n",
    "libs = []\n",
    "for _ in range(nlibs):\n",
    "    libs.append({\n",
    "        'nbooks': readi(),\n",
    "        'stime': readi(),\n",
    "        'bperday': readi(),\n",
    "        'ind': i\n",
    "    })\n",
    "    libs[-1]['books'] = []\n",
    "    for _ in range(libs[-1]['nbooks']):\n",
    "        libs[-1]['books'].append(readi())"
   ]
  },
  {
   "cell_type": "code",
   "execution_count": null,
   "metadata": {},
   "outputs": [],
   "source": []
  },
  {
   "cell_type": "code",
   "execution_count": 252,
   "metadata": {},
   "outputs": [
    {
     "name": "stdout",
     "output_type": "stream",
     "text": [
      "(0, '/', 100000)\n",
      "(1000, '/', 100000)\n",
      "(2000, '/', 100000)\n",
      "(3000, '/', 100000)\n",
      "(4000, '/', 100000)\n",
      "(5000, '/', 100000)\n",
      "(6000, '/', 100000)\n",
      "(7000, '/', 100000)\n",
      "(8000, '/', 100000)\n",
      "(9000, '/', 100000)\n",
      "(10000, '/', 100000)\n",
      "(11000, '/', 100000)\n",
      "(12000, '/', 100000)\n",
      "(13000, '/', 100000)\n",
      "(14000, '/', 100000)\n",
      "(15000, '/', 100000)\n",
      "(16000, '/', 100000)\n",
      "(17000, '/', 100000)\n",
      "(18000, '/', 100000)\n",
      "(19000, '/', 100000)\n",
      "(20000, '/', 100000)\n",
      "(21000, '/', 100000)\n",
      "(22000, '/', 100000)\n",
      "(23000, '/', 100000)\n",
      "(24000, '/', 100000)\n",
      "(25000, '/', 100000)\n",
      "(26000, '/', 100000)\n",
      "(27000, '/', 100000)\n",
      "(28000, '/', 100000)\n",
      "(29000, '/', 100000)\n",
      "(30000, '/', 100000)\n",
      "(31000, '/', 100000)\n",
      "(32000, '/', 100000)\n",
      "(33000, '/', 100000)\n",
      "(34000, '/', 100000)\n",
      "(35000, '/', 100000)\n",
      "(36000, '/', 100000)\n",
      "(37000, '/', 100000)\n",
      "(38000, '/', 100000)\n",
      "(39000, '/', 100000)\n",
      "(40000, '/', 100000)\n",
      "(41000, '/', 100000)\n",
      "(42000, '/', 100000)\n",
      "(43000, '/', 100000)\n",
      "(44000, '/', 100000)\n",
      "(45000, '/', 100000)\n",
      "(46000, '/', 100000)\n",
      "(47000, '/', 100000)\n",
      "(48000, '/', 100000)\n",
      "(49000, '/', 100000)\n",
      "(50000, '/', 100000)\n",
      "(51000, '/', 100000)\n",
      "(52000, '/', 100000)\n",
      "(53000, '/', 100000)\n",
      "(54000, '/', 100000)\n",
      "(55000, '/', 100000)\n",
      "(56000, '/', 100000)\n",
      "(57000, '/', 100000)\n",
      "(58000, '/', 100000)\n",
      "(59000, '/', 100000)\n",
      "(60000, '/', 100000)\n",
      "(61000, '/', 100000)\n",
      "(62000, '/', 100000)\n",
      "(63000, '/', 100000)\n",
      "(64000, '/', 100000)\n",
      "(65000, '/', 100000)\n",
      "(66000, '/', 100000)\n",
      "(67000, '/', 100000)\n",
      "(68000, '/', 100000)\n",
      "(69000, '/', 100000)\n",
      "(70000, '/', 100000)\n",
      "(71000, '/', 100000)\n",
      "(72000, '/', 100000)\n",
      "(73000, '/', 100000)\n",
      "(74000, '/', 100000)\n",
      "(75000, '/', 100000)\n",
      "(76000, '/', 100000)\n",
      "(77000, '/', 100000)\n",
      "(78000, '/', 100000)\n",
      "(79000, '/', 100000)\n",
      "(80000, '/', 100000)\n",
      "(81000, '/', 100000)\n",
      "(82000, '/', 100000)\n",
      "(83000, '/', 100000)\n",
      "(84000, '/', 100000)\n",
      "(85000, '/', 100000)\n",
      "(86000, '/', 100000)\n",
      "(87000, '/', 100000)\n",
      "(88000, '/', 100000)\n",
      "(89000, '/', 100000)\n",
      "(90000, '/', 100000)\n",
      "(91000, '/', 100000)\n",
      "(92000, '/', 100000)\n",
      "(93000, '/', 100000)\n",
      "(94000, '/', 100000)\n",
      "(95000, '/', 100000)\n",
      "(96000, '/', 100000)\n",
      "(97000, '/', 100000)\n",
      "(98000, '/', 100000)\n",
      "(99000, '/', 100000)\n"
     ]
    },
    {
     "data": {
      "text/plain": [
       "6023383"
      ]
     },
     "execution_count": 252,
     "metadata": {},
     "output_type": "execute_result"
    }
   ],
   "source": []
  },
  {
   "cell_type": "code",
   "execution_count": null,
   "metadata": {},
   "outputs": [],
   "source": []
  },
  {
   "cell_type": "code",
   "execution_count": 206,
   "metadata": {},
   "outputs": [],
   "source": [
    "res = open(\"outputs/\" + LETTER + \"-out.txt\", \"w\")\n",
    "\n",
    "def wri(i):\n",
    "    res.write(str(i))\n",
    "    res.write(' ')\n",
    "    \n",
    "def nl():\n",
    "    res.write('\\n')\n",
    "    \n",
    "wri(nlibs)\n",
    "nl()\n",
    "\n",
    "for lib in libs:\n",
    "    wri(lib['ind'])\n",
    "    wri(lib['nbooks'])\n",
    "    nl()\n",
    "    \n",
    "    for book in lib['books']:\n",
    "        wri(book)\n",
    "    nl()\n",
    "    \n",
    "f.close()\n",
    "res.close()"
   ]
  },
  {
   "cell_type": "code",
   "execution_count": 222,
   "metadata": {},
   "outputs": [],
   "source": []
  },
  {
   "cell_type": "code",
   "execution_count": 210,
   "metadata": {},
   "outputs": [
    {
     "data": {
      "text/plain": [
       "5429300"
      ]
     },
     "execution_count": 210,
     "metadata": {},
     "output_type": "execute_result"
    }
   ],
   "source": []
  },
  {
   "cell_type": "code",
   "execution_count": null,
   "metadata": {},
   "outputs": [],
   "source": []
  },
  {
   "cell_type": "code",
   "execution_count": null,
   "metadata": {},
   "outputs": [],
   "source": []
  },
  {
   "cell_type": "code",
   "execution_count": null,
   "metadata": {},
   "outputs": [],
   "source": []
  },
  {
   "cell_type": "code",
   "execution_count": null,
   "metadata": {},
   "outputs": [],
   "source": []
  },
  {
   "cell_type": "code",
   "execution_count": null,
   "metadata": {},
   "outputs": [],
   "source": [
    "# def formula(lib):\n",
    "#     return lib['nbooks']/lib['bperday'] + lib['stime']\n",
    "# libs = sorted(libs, key=formula)\n",
    "\n",
    "# def calc_score():\n",
    "#     counters = [0] * nlibs\n",
    "#     total = 0\n",
    "#     days = 0\n",
    "#     curr_libs = []\n",
    "#     currsu = 0\n",
    "#     for i in range(ndays):\n",
    "#         if i % 1000 == 0:\n",
    "#             print(i, '/', ndays)\n",
    "#         for i, lib in enumerate(curr_libs):\n",
    "#             if counters[i] < len(lib['books']):\n",
    "#                 for _ in range(lib['bperday']):\n",
    "#                     if counters[i] < len(lib['books']):\n",
    "#                         total += scores[lib['books'][counters[i]]]\n",
    "#                         counters[i] += 1\n",
    "#         if libs[currsu]['stime'] == days:\n",
    "#             curr_libs.append(libs[currsu])\n",
    "#             currsu += 1\n",
    "#             days = -1\n",
    "#         days += 1\n",
    "#     return total\n",
    "\n",
    "\n",
    "# calc_score()"
   ]
  }
 ],
 "metadata": {
  "kernelspec": {
   "display_name": "Python 2",
   "language": "python",
   "name": "python2"
  },
  "language_info": {
   "codemirror_mode": {
    "name": "ipython",
    "version": 2
   },
   "file_extension": ".py",
   "mimetype": "text/x-python",
   "name": "python",
   "nbconvert_exporter": "python",
   "pygments_lexer": "ipython2",
   "version": "2.7.12"
  }
 },
 "nbformat": 4,
 "nbformat_minor": 2
}
