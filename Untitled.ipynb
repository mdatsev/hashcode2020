{
 "cells": [
  {
   "cell_type": "code",
   "execution_count": 9,
   "metadata": {},
   "outputs": [],
   "source": [
    "import sys"
   ]
  },
  {
   "cell_type": "code",
   "execution_count": 41,
   "metadata": {},
   "outputs": [],
   "source": [
    "f = open(\"inputs/A.txt\",\"r\")\n",
    "\n",
    "inpt = f.read().split()\n",
    "ic=0\n",
    "def readi():\n",
    "    global ic\n",
    "    v = inpt[ic]\n",
    "    ic += 1\n",
    "    return int(v)"
   ]
  },
  {
   "cell_type": "code",
   "execution_count": 42,
   "metadata": {},
   "outputs": [],
   "source": [
    "nbooks = readi()\n",
    "nlibs = readi()\n",
    "ndays = readi()\n",
    "\n",
    "scores = []\n",
    "for _ in range(nbooks):\n",
    "    scores.append(readi())\n",
    "    \n",
    "libs = []\n",
    "for _ in range(nlibs):\n",
    "    libs.append({\n",
    "        'nbooks': readi(),\n",
    "        'stime': readi(),\n",
    "        'bperday': readi()\n",
    "    })\n",
    "    libs[-1]['books'] = []\n",
    "    for _ in range(libs[-1]['nbooks']):\n",
    "        libs[-1]['books'].append(readi())\n",
    "        "
   ]
  },
  {
   "cell_type": "code",
   "execution_count": 43,
   "metadata": {},
   "outputs": [
    {
     "data": {
      "text/plain": [
       "[{'books': [0, 1, 2, 3, 4], 'bperday': 2, 'nbooks': 5, 'stime': 2},\n",
       " {'books': [0, 2, 3, 5], 'bperday': 1, 'nbooks': 4, 'stime': 3}]"
      ]
     },
     "execution_count": 43,
     "metadata": {},
     "output_type": "execute_result"
    }
   ],
   "source": [
    "libs"
   ]
  },
  {
   "cell_type": "code",
   "execution_count": 14,
   "metadata": {},
   "outputs": [],
   "source": [
    "res = open(\"outputs/A-out.txt\", \"w\")\n",
    "res.write(content)\n",
    "f.close()\n",
    "res.close()"
   ]
  },
  {
   "cell_type": "code",
   "execution_count": null,
   "metadata": {},
   "outputs": [],
   "source": []
  }
 ],
 "metadata": {
  "kernelspec": {
   "display_name": "Python 3",
   "language": "python",
   "name": "python3"
  },
  "language_info": {
   "codemirror_mode": {
    "name": "ipython",
    "version": 3
   },
   "file_extension": ".py",
   "mimetype": "text/x-python",
   "name": "python",
   "nbconvert_exporter": "python",
   "pygments_lexer": "ipython3",
   "version": "3.7.3"
  }
 },
 "nbformat": 4,
 "nbformat_minor": 2
}
